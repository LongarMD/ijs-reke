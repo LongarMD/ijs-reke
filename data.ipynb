{
 "cells": [
  {
   "cell_type": "code",
   "execution_count": null,
   "id": "initial_id",
   "metadata": {
    "ExecuteTime": {
     "end_time": "2024-07-22T13:11:38.476262Z",
     "start_time": "2024-07-22T13:11:37.563356Z"
    },
    "collapsed": true
   },
   "outputs": [],
   "source": [
    "import pandas as pd\n",
    "import geopandas as gpd\n",
    "import datetime\n",
    "import matplotlib.pyplot as plt\n",
    "from geopy.distance import geodesic"
   ]
  },
  {
   "cell_type": "code",
   "execution_count": null,
   "id": "212509763b6c599a",
   "metadata": {
    "ExecuteTime": {
     "end_time": "2024-07-22T13:42:46.104142Z",
     "start_time": "2024-07-22T13:42:35.930223Z"
    }
   },
   "outputs": [],
   "source": [
    "river_stations = pd.read_csv('output/rivers_stations_2002_2024.csv')\n",
    "\n",
    "river_stations['geometry'] = gpd.points_from_xy(river_stations['lon'], river_stations['lat'])\n",
    "river_stations = gpd.GeoDataFrame(river_stations, crs=\"EPSG:4326\")\n",
    "river_stations = river_stations.to_crs(\"EPSG:3035\")\n",
    "river_stations = river_stations[~river_stations['river'].str.contains('jezer', case=False)]\n",
    "\n",
    "\n",
    "prec_stations = pd.read_csv('output/precipitation_stations_2002_2024.csv')\n",
    "prec_stations['geometry'] = gpd.points_from_xy(prec_stations['lon'], prec_stations['lat'])\n",
    "prec_stations = gpd.GeoDataFrame(prec_stations, crs=\"EPSG:4326\")\n",
    "prec_stations = prec_stations.to_crs(\"EPSG:3035\")\n",
    "\n",
    "weather_stations = pd.read_csv('output/weather_automatic_stations_2002-01-01_2024-07-23.csv')\n",
    "weather_stations['geometry'] = gpd.points_from_xy(weather_stations['lon'], weather_stations['lat'])\n",
    "weather_stations = gpd.GeoDataFrame(weather_stations, crs=\"EPSG:4326\")\n",
    "weather_stations = weather_stations.to_crs(\"EPSG:3035\")\n",
    "\n",
    "river_data = pd.read_csv('output/rivers_data_2002_2024.csv')\n",
    "prec_data = pd.read_csv('output/precipitation_data_2002_2024.csv')\n"
   ]
  },
  {
   "cell_type": "code",
   "execution_count": null,
   "id": "11f2198f",
   "metadata": {},
   "outputs": [],
   "source": [
    "prec_stations"
   ]
  },
  {
   "cell_type": "code",
   "execution_count": null,
   "id": "cd5cff7815cbb018",
   "metadata": {
    "ExecuteTime": {
     "end_time": "2024-07-22T13:42:46.121353Z",
     "start_time": "2024-07-22T13:42:46.106238Z"
    }
   },
   "outputs": [],
   "source": [
    "import ast\n",
    "\n",
    "# Define a converter function to convert list-like strings to actual lists\n",
    "def convert_to_list(value):\n",
    "    return ast.literal_eval(value)\n",
    "\n",
    "# Read the CSV file with converters for the list columns\n",
    "close_river_prec = pd.read_csv('output/rivers_to_close_weather_stations.csv', converters={\n",
    "    'precip_ids': convert_to_list,\n",
    "    'precip_distances': convert_to_list\n",
    "})\n"
   ]
  },
  {
   "cell_type": "code",
   "execution_count": null,
   "id": "d3cbb369d4171515",
   "metadata": {
    "ExecuteTime": {
     "end_time": "2024-07-22T13:42:46.245258Z",
     "start_time": "2024-07-22T13:42:46.122737Z"
    }
   },
   "outputs": [],
   "source": [
    "import networkx as nx\n",
    "\n",
    "G = nx.Graph()\n"
   ]
  },
  {
   "cell_type": "code",
   "execution_count": null,
   "id": "b5f0866a746870b0",
   "metadata": {
    "ExecuteTime": {
     "end_time": "2024-07-22T13:42:46.250951Z",
     "start_time": "2024-07-22T13:42:46.246688Z"
    }
   },
   "outputs": [],
   "source": [
    "# filter out the prec stations where start_year = 2002, end_year = 2024\n",
    "prec_stations = prec_stations[(prec_stations['start_year'] == 2002) & (prec_stations['end_year'] == 2024)]"
   ]
  },
  {
   "cell_type": "code",
   "execution_count": null,
   "id": "2e8afd355fdb152",
   "metadata": {
    "ExecuteTime": {
     "end_time": "2024-07-22T13:42:46.256802Z",
     "start_time": "2024-07-22T13:42:46.251725Z"
    }
   },
   "outputs": [],
   "source": [
    "for r in river_stations.iterrows():\n",
    "    G.add_node(f'r_{r[1][\"id\"]}', station_type='river', station_name=r[1]['name'], lat=r[1]['lat'], lon=r[1]['lon'])"
   ]
  },
  {
   "cell_type": "code",
   "execution_count": null,
   "id": "a746df7e840e8ece",
   "metadata": {
    "ExecuteTime": {
     "end_time": "2024-07-22T13:42:46.262446Z",
     "start_time": "2024-07-22T13:42:46.257875Z"
    }
   },
   "outputs": [],
   "source": [
    "for p in prec_stations.iterrows():\n",
    "    G.add_node(f\"p_{p[1]['id']}\", station_type='prec', station_name=p[1]['name'], lat=p[1]['lat'], lon=p[1]['lon'], alt=p[1]['alt'])"
   ]
  },
  {
   "cell_type": "code",
   "execution_count": null,
   "id": "a19f967c65d9092c",
   "metadata": {
    "ExecuteTime": {
     "end_time": "2024-07-22T13:42:46.270252Z",
     "start_time": "2024-07-22T13:42:46.263363Z"
    }
   },
   "outputs": [],
   "source": [
    "close_river_prec.head()"
   ]
  },
  {
   "cell_type": "code",
   "execution_count": null,
   "id": "fb341f1884f0da13",
   "metadata": {
    "ExecuteTime": {
     "end_time": "2024-07-22T13:42:46.277721Z",
     "start_time": "2024-07-22T13:42:46.270889Z"
    }
   },
   "outputs": [],
   "source": [
    "for _, c in close_river_prec.iterrows():\n",
    "    r_id = c['id']\n",
    "    \n",
    "    if f\"r_{r_id}\" not in G.nodes:\n",
    "        continue\n",
    "    \n",
    "    for i, p in enumerate(c['precip_ids']):\n",
    "        if f\"p_{p}\" not in G.nodes:\n",
    "            print(p)\n",
    "            continue\n",
    "        G.add_edge(f'r_{c[\"id\"]}', f'p_{p}', dist=c['precip_distances'][i])"
   ]
  },
  {
   "cell_type": "code",
   "execution_count": null,
   "id": "e69c98121f9a1b6d",
   "metadata": {
    "ExecuteTime": {
     "end_time": "2024-07-22T13:42:46.691721Z",
     "start_time": "2024-07-22T13:42:46.278337Z"
    }
   },
   "outputs": [],
   "source": [
    "# plot the graph, with the river stations in red and the precipitation stations in blue\n",
    "# use pyvis to plot the graph\n",
    "\n",
    "from pyvis.network import Network\n",
    "import networkx as nx\n",
    "\n",
    "nt = Network(height='100vh', width='100%', directed=False)\n",
    "nt.from_nx(G)\n",
    "\n",
    "# Set node colors based on type\n",
    "for node in nt.nodes:\n",
    "    node['color'] = 'blue' if node['station_type'] == 'river' else 'red'\n",
    "    # add station_name to tooltip\n",
    "    node['title'] = node['station_name']\n",
    "    # add lat, lon to tooltip\n",
    "    node['title'] += f\"\\nlat: {node['lat']}, lon: {node['lon']}\"\n",
    "    # add alt to tooltip\n",
    "    if 'alt' in node:\n",
    "        node['title'] += f\"<br>alt: {node['alt']}\"\n",
    "        \n",
    "    # add \n",
    "    \n",
    "# add edge weight\n",
    "for edge in nt.edges:\n",
    "    edge['title'] = edge['dist']\n",
    "    edge['width'] = min(edge['dist'], 10)  # You can scale this if needed\n",
    "    # set edge color\n",
    "    edge['color'] = 'gray'\n",
    "\n",
    "nt.show(\"nx.html\", notebook=False)\n"
   ]
  },
  {
   "cell_type": "code",
   "execution_count": null,
   "id": "cd62226da75ef3d0",
   "metadata": {
    "ExecuteTime": {
     "end_time": "2024-07-22T13:26:05.765527Z",
     "start_time": "2024-07-22T13:25:57.732830Z"
    }
   },
   "outputs": [],
   "source": [
    "danube_l = gpd.read_file('./euhydro/euhydro_danube_v013.gpkg', layer='River_Net_l')\n",
    "po_l = gpd.read_file('./euhydro/euhydro_po_v013.gpkg', layer='River_Net_l')"
   ]
  },
  {
   "cell_type": "code",
   "execution_count": null,
   "id": "e89c7e4df5e27ff4",
   "metadata": {
    "ExecuteTime": {
     "end_time": "2024-07-22T13:26:05.876579Z",
     "start_time": "2024-07-22T13:26:05.766523Z"
    }
   },
   "outputs": [],
   "source": [
    "slovenia = gpd.read_file('SR.geojson')"
   ]
  },
  {
   "cell_type": "code",
   "execution_count": null,
   "id": "d9bdc7e043089039",
   "metadata": {
    "ExecuteTime": {
     "end_time": "2024-07-22T13:26:05.898852Z",
     "start_time": "2024-07-22T13:26:05.877304Z"
    }
   },
   "outputs": [],
   "source": [
    "# danube_l = danube_l.to_crs(\"EPSG:3035\")\n",
    "# po_l = po_l.to_crs(\"EPSG:3035\")\n",
    "slovenia = slovenia.to_crs(\"EPSG:3035\")"
   ]
  },
  {
   "cell_type": "code",
   "execution_count": null,
   "id": "56d6f11c9851991a",
   "metadata": {
    "ExecuteTime": {
     "end_time": "2024-07-22T13:26:06.155233Z",
     "start_time": "2024-07-22T13:26:05.899995Z"
    }
   },
   "outputs": [],
   "source": [
    "slo_bb = slovenia.total_bounds\n",
    "minx, miny, maxx, maxy = slo_bb\n",
    "minx, miny = minx - 1e5, miny - 1e5\n",
    "maxx, maxy = maxx + 1e5, maxy + 1e5\n",
    "\n",
    "danube_l = danube_l.cx[minx:maxx, miny:maxy]\n",
    "po_l = po_l.cx[minx:maxx, miny:maxy]"
   ]
  },
  {
   "cell_type": "code",
   "execution_count": null,
   "id": "1b6cf7c0c9e43d30",
   "metadata": {
    "ExecuteTime": {
     "end_time": "2024-07-22T13:26:08.714134Z",
     "start_time": "2024-07-22T13:26:06.155821Z"
    }
   },
   "outputs": [],
   "source": [
    "# plot over slovenia\n",
    "fig, ax = plt.subplots(figsize=(15, 15))\n",
    "\n",
    "slovenia.plot(ax=ax, alpha=0.3, color='red')\n",
    "danube_l.plot(ax=ax, alpha=0.5)\n",
    "po_l.plot(ax=ax, alpha=0.5)\n",
    "\n",
    "plt.show()"
   ]
  },
  {
   "cell_type": "code",
   "execution_count": null,
   "id": "be9458c34a9e906f",
   "metadata": {
    "ExecuteTime": {
     "end_time": "2024-07-22T13:45:46.618568Z",
     "start_time": "2024-07-22T13:45:46.609429Z"
    }
   },
   "outputs": [],
   "source": [
    "def plot_over_slovenia(gdfs):\n",
    "    fig, ax = plt.subplots(figsize=(15, 15))\n",
    "\n",
    "    slovenia.plot(ax=ax, alpha=1.0, color='red')\n",
    "    for gdf in gdfs:\n",
    "        gdf.plot(ax=ax, alpha=0.5)\n",
    "\n",
    "    plt.show()"
   ]
  },
  {
   "cell_type": "code",
   "execution_count": null,
   "id": "a0d33774",
   "metadata": {},
   "outputs": [],
   "source": [
    "# plot over slovenia\n",
    "fig, ax = plt.subplots(figsize=(15, 15))\n",
    "\n",
    "slovenia.plot(ax=ax, alpha=0.3, color='red')\n",
    "danube_l.plot(ax=ax, alpha=0.5)\n",
    "po_l.plot(ax=ax, alpha=0.5)\n",
    "\n",
    "plt.show()"
   ]
  },
  {
   "cell_type": "code",
   "execution_count": null,
   "id": "75f4dac6",
   "metadata": {},
   "outputs": [],
   "source": [
    "# for each river_station point geomtry find the cloest river geometry section mulitline z string\n",
    "\n",
    "def find_closest_river_section(centroid, all_points, max_distance=10000):\n",
    "\n",
    "    # Use spatial index to filter candidates\n",
    "    possible_matches_index = list(all_points.sindex.query(centroid, predicate=\"dwithin\", distance=max_distance))\n",
    "    possible_matches = all_points.iloc[possible_matches_index]\n",
    "    distances = possible_matches.distance(centroid)\n",
    "\n",
    "    closest_points = distances.nsmallest(1)\n",
    "\n",
    "    return closest_points.index.tolist(), closest_points.tolist()\n",
    "\n",
    "\n",
    "rivers_m = pd.concat([danube_l, po_l])\n",
    "\n",
    "river_stations_m = river_stations.copy()\n",
    "\n",
    "rivers_m['centroid'] = rivers_m['geometry'].centroid\n",
    "\n",
    "rivers_m.sindex\n",
    "river_stations_m.sindex\n",
    "\n",
    "closest_results = river_stations_m['geometry'].apply(lambda centroid: find_closest_river_section(centroid, rivers_m))\n",
    "\n",
    "river_stations_m['closest_ids'], river_stations_m['distances'] = zip(*closest_results)\n",
    "\n",
    "# handle also min() arg is an empty sequence\n",
    "river_stations_m['closest_ids'] = river_stations_m['closest_ids'].apply(lambda x: x[0] if x else None)\n",
    "river_stations_m['distances'] = river_stations_m['distances'].apply(lambda x: x[0] if x else None)"
   ]
  },
  {
   "cell_type": "code",
   "execution_count": null,
   "id": "b571f16e",
   "metadata": {},
   "outputs": [],
   "source": [
    "river_stations_m"
   ]
  },
  {
   "cell_type": "code",
   "execution_count": null,
   "id": "5ec16d3a",
   "metadata": {},
   "outputs": [],
   "source": [
    "river_stations_m[river_stations_m['distances'] > 60]"
   ]
  },
  {
   "cell_type": "code",
   "execution_count": null,
   "id": "1ddc7571",
   "metadata": {},
   "outputs": [],
   "source": [
    "# plot slovenia and single geometry\n",
    "\n",
    "fig, ax = plt.subplots(figsize=(15, 15))\n",
    "\n",
    "slovenia.plot(ax=ax, alpha=0.1, color='red')\n",
    "\n",
    "river_stations_m.loc[12:12].plot(ax=ax, color='yellow', alpha=1)\n",
    "rivers_m.loc[66698:66698].plot(ax=ax, alpha=1)"
   ]
  },
  {
   "cell_type": "code",
   "execution_count": null,
   "id": "d4349dbe",
   "metadata": {},
   "outputs": [],
   "source": [
    "river_stations_m"
   ]
  },
  {
   "cell_type": "code",
   "execution_count": null,
   "id": "52f34c93",
   "metadata": {},
   "outputs": [],
   "source": [
    "closest_river_section_ids = river_stations_m['closest_ids'].tolist()\n",
    "closest_river_section_ids\n",
    "\n"
   ]
  },
  {
   "cell_type": "code",
   "execution_count": null,
   "id": "34bf7ca3",
   "metadata": {},
   "outputs": [],
   "source": [
    "# for each river_section in rivers_m find the closest weather station\n",
    "\n",
    "def find_closest_weather_stations(centroid, all_points, n_closest=5, max_distance=200000):\n",
    "    \n",
    "        # Use spatial index to filter candidates\n",
    "        possible_matches_index = list(all_points.sindex.query(centroid, predicate=\"dwithin\", distance=max_distance))\n",
    "        possible_matches = all_points.iloc[possible_matches_index]\n",
    "        distances = possible_matches.distance(centroid)\n",
    "    \n",
    "        closest_points = distances.nsmallest(n_closest)\n",
    "    \n",
    "        return closest_points.index.tolist(), closest_points.tolist()\n",
    "\n",
    "\n",
    "weather_stations_x = weather_stations.copy()\n",
    "weather_stations_x['centroid'] = weather_stations_x['geometry'].centroid\n",
    "\n",
    "weather_stations_x.sindex\n",
    "\n",
    "n_closest = 5\n",
    "closest_results = rivers_m['geometry'].apply(lambda centroid: find_closest_weather_stations(centroid, weather_stations_x, n_closest))\n",
    "\n",
    "rivers_m['closest_weather_ids'], rivers_m['closest_weather_dist'] = zip(*closest_results)\n",
    "\n",
    "rivers_m['closest_weather_ids'] = rivers_m['closest_weather_ids'].apply(lambda x: x if x else None)\n",
    "\n",
    "rivers_m = rivers_m[rivers_m['closest_weather_dist'].apply(lambda x: x[0] if x else 0) <= 30000]\n",
    "\n",
    "# remove te river sections that have distances equal to nan\n",
    "rivers_m = rivers_m[~rivers_m['closest_weather_dist'].isna()]\n",
    "rivers_m = rivers_m[~rivers_m['closest_weather_ids'].isnull()]\n"
   ]
  },
  {
   "cell_type": "code",
   "execution_count": null,
   "id": "b29dc1ea",
   "metadata": {},
   "outputs": [],
   "source": [
    "fig, ax = plt.subplots(figsize=(15, 15))\n",
    "\n",
    "slovenia.plot(ax=ax, alpha=0.1, color='red')    \n",
    "rivers_m.plot(ax=ax, alpha=1)"
   ]
  },
  {
   "cell_type": "code",
   "execution_count": null,
   "id": "921dedb6",
   "metadata": {},
   "outputs": [],
   "source": [
    "# for each river section plot the closest precipitation station geometry point\n",
    "\n",
    "prec_stations_m = prec_stations.copy()\n",
    "prec_stations_m['centroid'] = prec_stations_m['geometry'].centroid\n",
    "\n",
    "prec_stations_m.sindex\n",
    "\n",
    "# use same function as was implemented before\n",
    "\n",
    "n_closest = 5\n",
    "closest_results = rivers_m['geometry'].apply(lambda centroid: find_closest_weather_stations(centroid, prec_stations_m, n_closest))\n",
    "\n",
    "rivers_m['closest_prec_ids'], rivers_m['closest_prec_dist'] = zip(*closest_results)\n",
    "\n",
    "rivers_m['closest_prec_ids'] = rivers_m['closest_prec_ids'].apply(lambda x: x if x else None)\n"
   ]
  },
  {
   "cell_type": "code",
   "execution_count": null,
   "id": "12c71a40",
   "metadata": {},
   "outputs": [],
   "source": [
    "rivers_m"
   ]
  },
  {
   "cell_type": "code",
   "execution_count": null,
   "id": "d50bbff7",
   "metadata": {},
   "outputs": [],
   "source": [
    "river_stations_m"
   ]
  },
  {
   "cell_type": "code",
   "execution_count": null,
   "id": "4baedf62",
   "metadata": {},
   "outputs": [],
   "source": [
    "closest_ids = river_stations_m['closest_ids'].tolist()\n",
    "\n",
    "# keep only rows with index in closest_ids\n",
    "\n",
    "rivers_tmp_colored = rivers_m.copy()\n",
    "rivers_tmp_colored['color'] = 'blue'\n",
    "\n",
    "rivers_tmp_colored.loc[closest_ids, 'color'] = 'red'\n",
    "\n",
    "\n"
   ]
  },
  {
   "cell_type": "code",
   "execution_count": null,
   "id": "0dba2f64",
   "metadata": {},
   "outputs": [],
   "source": [
    "rivers_tmp_colored"
   ]
  },
  {
   "cell_type": "code",
   "execution_count": null,
   "id": "52d60517",
   "metadata": {},
   "outputs": [],
   "source": [
    "fig, ax = plt.subplots(figsize=(15, 15))\n",
    "\n",
    "slovenia.plot(ax=ax, alpha=0.1, color='red')    \n",
    "rivers_tmp_colored.plot(ax=ax, alpha=0.7, color=rivers_tmp_colored['color'])\n",
    "\n",
    "# plot on same ax closest weather stations\n",
    "\n",
    "weather_stations_close = weather_stations_x.loc[rivers_m['closest_weather_ids'].explode().unique()]\n",
    "prec_stations_close = prec_stations_m.loc[rivers_m['closest_prec_ids'].explode().unique()]\n",
    "\n",
    "weather_stations_close.plot(ax=ax, color='green', alpha=1)\n",
    "prec_stations_close.plot(ax=ax, color='blue', alpha=1)\n"
   ]
  },
  {
   "cell_type": "code",
   "execution_count": null,
   "id": "a5b87aea",
   "metadata": {},
   "outputs": [],
   "source": [
    "df_weather = pd.read_csv('output/weather_data_2002_2023_hourly.csv')\n",
    "df_weather['timestamp'] = pd.to_datetime(df_weather['timestamp'])\n",
    "df_weather.set_index('timestamp', inplace=True)"
   ]
  },
  {
   "cell_type": "code",
   "execution_count": null,
   "id": "e125bd40",
   "metadata": {},
   "outputs": [],
   "source": []
  }
 ],
 "metadata": {
  "kernelspec": {
   "display_name": "Python 3",
   "language": "python",
   "name": "python3"
  },
  "language_info": {
   "codemirror_mode": {
    "name": "ipython",
    "version": 3
   },
   "file_extension": ".py",
   "mimetype": "text/x-python",
   "name": "python",
   "nbconvert_exporter": "python",
   "pygments_lexer": "ipython3",
   "version": "3.11.9"
  }
 },
 "nbformat": 4,
 "nbformat_minor": 5
}
